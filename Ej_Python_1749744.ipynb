{
 "cells": [
  {
   "cell_type": "markdown",
   "metadata": {},
   "source": [
    "__EJERCICIOS BÁSICOS DE PYTHON__\n",
    "==\n",
    "\n",
    "Dayan Ramirez Vargas, 1749744\n"
   ]
  },
  {
   "cell_type": "markdown",
   "metadata": {},
   "source": [
    "__Ejercicio 1__\n",
    "--\n",
    "\n",
    "Realiza una variable con tu matrícula y realiza una secuencia de imprimir con tu nombre y tu matrícula concatenados:\n"
   ]
  },
  {
   "cell_type": "code",
   "execution_count": 34,
   "metadata": {
    "scrolled": true
   },
   "outputs": [
    {
     "name": "stdout",
     "output_type": "stream",
     "text": [
      "Dayan Ramirez Vargas 1749744\n"
     ]
    }
   ],
   "source": [
    "Name=\"Dayan Ramirez Vargas\"\n",
    "Id=1749744\n",
    "print(Name, Id)"
   ]
  },
  {
   "cell_type": "markdown",
   "metadata": {},
   "source": [
    "**Ejercicio 2**\n",
    "--\n",
    "Pidiendo el input del usuario pide dos números y crea una pequeña calculadora con los operadores básicos de suma, resta, multiplicación, división, y exponente."
   ]
  },
  {
   "cell_type": "code",
   "execution_count": 35,
   "metadata": {},
   "outputs": [
    {
     "name": "stdout",
     "output_type": "stream",
     "text": [
      "Ingrese los números a operar\n",
      "A: 2\n",
      "B: 3\n",
      "2.0 + 3.0 = 5.0\n",
      "2.0 - 3.0 = -1.0\n",
      "3.0 - 2.0 = 1.0\n",
      "2.0 x 3.0 = 6.0\n",
      "2.0 / 3.0 = 0.6666666666666666\n",
      "3.0 / 2.0 = 1.5\n",
      "2.0 ^ 3.0 = 8.0\n",
      "3.0 ^ 2.0 = 9.0\n"
     ]
    }
   ],
   "source": [
    "print(\"Ingrese los números a operar\")\n",
    "\n",
    "A=float(input(\"A: \"))\n",
    "B=float(input(\"B: \"))\n",
    "\n",
    "Sum=A+B\n",
    "Sub1=A-B\n",
    "Sub2=B-A\n",
    "Mul=A*B\n",
    "Div1=A/B\n",
    "Div2=B/A\n",
    "Exp1=A**B\n",
    "Exp2=B**A\n",
    "\n",
    "print(A,\"+\",B,\"=\", Sum)\n",
    "print(A,\"-\",B,\"=\", Sub1)\n",
    "print(B,\"-\",A,\"=\", Sub2)\n",
    "print(A,\"x\",B,\"=\", Mul)\n",
    "print(A,\"/\",B,\"=\", Div1)\n",
    "print(B,\"/\",A,\"=\", Div2)\n",
    "print(A,\"^\",B,\"=\", Exp1)\n",
    "print(B,\"^\",A,\"=\", Exp2)\n"
   ]
  },
  {
   "cell_type": "markdown",
   "metadata": {},
   "source": [
    "**Ejercicio 3**\n",
    "--\n",
    "Con loop while o for, realiza una lista de 10 numeros múltiplos de 3, y después realiza una función de loop que sume todos los números dentro del arreglo."
   ]
  },
  {
   "cell_type": "code",
   "execution_count": 33,
   "metadata": {},
   "outputs": [
    {
     "name": "stdout",
     "output_type": "stream",
     "text": [
      "10 múltiplos de 3:\n",
      "3\n",
      "6\n",
      "9\n",
      "12\n",
      "15\n",
      "18\n",
      "21\n",
      "24\n",
      "27\n",
      "30\n",
      "\n",
      "La suma de los anteriores multiplos es:  165\n"
     ]
    }
   ],
   "source": [
    "Sum=0\n",
    "print(\"10 múltiplos de 3:\")\n",
    "for i in range(1,11):\n",
    "    Mult=i*3\n",
    "    print(Mult)\n",
    "    Sum=Sum+(i*3)  \n",
    "\n",
    "print(\"\\nLa suma de los anteriores multiplos es: \", sum)"
   ]
  },
  {
   "cell_type": "markdown",
   "metadata": {},
   "source": [
    "**Ejercicio 4**\n",
    "--\n",
    "1. Con una función de if else, revisar si un número es par o es impar."
   ]
  },
  {
   "cell_type": "code",
   "execution_count": 18,
   "metadata": {},
   "outputs": [
    {
     "name": "stdout",
     "output_type": "stream",
     "text": [
      "Ingrese un numero: 3\n",
      "El numero es impar\n"
     ]
    }
   ],
   "source": [
    "A=int(input(\"Ingrese un numero: \"))\n",
    "\n",
    "Num=A%2\n",
    "\n",
    "if Num==0:\n",
    "    print(\"El numero es par\")\n",
    "else:\n",
    "    print(\"El numero es impar\")"
   ]
  },
  {
   "cell_type": "markdown",
   "metadata": {},
   "source": [
    "2. Con una función de if else, revisar si un número es primo o no."
   ]
  },
  {
   "cell_type": "code",
   "execution_count": 36,
   "metadata": {},
   "outputs": [
    {
     "name": "stdout",
     "output_type": "stream",
     "text": [
      "Ingrese un número: 7\n",
      "El número es primo\n"
     ]
    }
   ],
   "source": [
    "A=int(input(\"Ingrese un número: \"))\n",
    "\n",
    "for i in range(2,x):\n",
    "    if A%i==0:\n",
    "        B=1\n",
    "if B==1:\n",
    "    print(\"El número no es primo\")\n",
    "else :\n",
    "    print(\"El número es primo\")"
   ]
  },
  {
   "cell_type": "markdown",
   "metadata": {},
   "source": [
    "**Ejercicio 5**\n",
    "--\n",
    "Utilizando diferentes clases en python, crea una calculadora con los operadores básicos de suma, resta, multiplicación, división, y exponente."
   ]
  },
  {
   "cell_type": "code",
   "execution_count": 50,
   "metadata": {},
   "outputs": [
    {
     "name": "stdout",
     "output_type": "stream",
     "text": [
      "Ingrese el primer número: 2\n",
      "Ingrese el segundo número: 3\n",
      "\n",
      "1. Suma\n",
      "2. Resta\n",
      "3. Multiplicación\n",
      "4. División\n",
      "5. Exponencial\n",
      "\n",
      "Ingrese el número de la operación que desea realizar:3\n",
      "2 x 3 = 6\n"
     ]
    }
   ],
   "source": [
    "def add(x, y):\n",
    "   return x + y\n",
    "\n",
    "def subtract(x, y):\n",
    "   return x - y\n",
    "\n",
    "def multiply(x, y):\n",
    "   return x * y\n",
    "\n",
    "def divide(x, y):\n",
    "   return x / y\n",
    "\n",
    "A = int(input(\"Ingrese el primer número: \"))\n",
    "B = int(input(\"Ingrese el segundo número: \"))\n",
    "\n",
    "print(\"\\n1. Suma\")\n",
    "print(\"2. Resta\")\n",
    "print(\"3. Multiplicación\")\n",
    "print(\"4. División\")\n",
    "print(\"5. Exponencial\")\n",
    "\n",
    "C = input(\"\\nIngrese el número de la operación que desea realizar:\")\n",
    "\n",
    "if C == '1':\n",
    "   print(A,\"+\",B,\"=\", add(A,B))\n",
    "elif C == '2':\n",
    "   print(A,\"-\",B,\"=\", subtract(A,B))\n",
    "elif C == '3':\n",
    "   print(A,\"x\",B,\"=\", multiply(A,B))\n",
    "elif C == '4':\n",
    "   print(A,\"/\",B,\"=\", divide(A,B))\n",
    "elif C =='5':\n",
    "   print(A,\"^\",B,\"=\",exp(A,B))\n",
    "else:\n",
    "    print(\"No ha ingresado un número válido\")"
   ]
  },
  {
   "cell_type": "markdown",
   "metadata": {},
   "source": [
    "__EJERCICIOS CON ESTRUCTURAS BÁSICAS PYTHON__\n",
    "==\n",
    "\n",
    "__Tuplas__\n",
    "--\n",
    "\n",
    "1. Crear una variable flotante, integer, boleana y compleja e imprimir el tipo de variable que es. \n",
    "\n"
   ]
  },
  {
   "cell_type": "code",
   "execution_count": 56,
   "metadata": {},
   "outputs": [
    {
     "name": "stdout",
     "output_type": "stream",
     "text": [
      "Tipo de Variable\n",
      "\n",
      "1.6666 -> <class 'float'>\n",
      "28 -> <class 'int'>\n",
      "False -> <class 'bool'>\n",
      "(0.2+1.999j) -> <class 'complex'>\n"
     ]
    }
   ],
   "source": [
    "A=1.6666\n",
    "B=28\n",
    "C=False\n",
    "D=0.2 + 1.999j\n",
    "print(\"Tipo de Variable\\n\")\n",
    "print(A,\"->\", type(A))\n",
    "print(B,\"->\", type(B))\n",
    "print(C,\"->\", type(C))\n",
    "print(D,\"->\", type(D))\n"
   ]
  },
  {
   "cell_type": "markdown",
   "metadata": {},
   "source": [
    "2. Crear una tupla con valores enteros imprimir el primer y ultimo valor."
   ]
  },
  {
   "cell_type": "code",
   "execution_count": 55,
   "metadata": {},
   "outputs": [
    {
     "name": "stdout",
     "output_type": "stream",
     "text": [
      "(10, 20, 30, 40, 50)\n",
      "\n",
      "Primer valor:  10\n",
      "\n",
      "Último valor:  50\n"
     ]
    }
   ],
   "source": [
    "Tup=(10,20,30,40,50)\n",
    "print(Tup)\n",
    "\n",
    "print(\"\\nPrimer valor: \",Tup[0])\n",
    "print(\"\\nÚltimo valor: \",Tup[len(Tup)-1])"
   ]
  },
  {
   "cell_type": "markdown",
   "metadata": {},
   "source": [
    "3. Añadir 3 valores de string a la tupla."
   ]
  },
  {
   "cell_type": "code",
   "execution_count": 68,
   "metadata": {},
   "outputs": [
    {
     "name": "stdout",
     "output_type": "stream",
     "text": [
      "Tupla: (10, 20, 30, 40, 50, 'hola', 'mundo', 'cruel')\n"
     ]
    }
   ],
   "source": [
    "NV=(\"hola\",\"mundo\",\"cruel\")\n",
    "Tup1=Tup+NV\n",
    "\n",
    "print(\"Tupla:\",Tup1)"
   ]
  },
  {
   "cell_type": "markdown",
   "metadata": {},
   "source": [
    "4. Verificar si una variable existe dentro de la tupla."
   ]
  },
  {
   "cell_type": "code",
   "execution_count": 70,
   "metadata": {},
   "outputs": [
    {
     "name": "stdout",
     "output_type": "stream",
     "text": [
      "Verifique si el elemento que busca existe dentro de la tupla anterior\n",
      "\n",
      "Elemento:60\n",
      "\n",
      "El elemento  60  no se encuentra en la tupla\n"
     ]
    }
   ],
   "source": [
    "print(\"Verifique si el elemento que busca existe dentro de la tupla anterior\")\n",
    "\n",
    "A = input(\"\\nElemento:\")\n",
    "\n",
    "Ver = A in Tup1\n",
    "\n",
    "\n",
    "if Ver==True:\n",
    "    print(\"\\nEl elemento \",A,\" se encuentra en la tupla\")\n",
    "else:\n",
    "    print(\"\\nEl elemento \",A,\" no se encuentra en la tupla\")"
   ]
  },
  {
   "cell_type": "markdown",
   "metadata": {},
   "source": [
    "**Listas**\n",
    "--\n",
    "1. Crear una lista con 40 elementos aleatorios enteros\n"
   ]
  },
  {
   "cell_type": "code",
   "execution_count": 100,
   "metadata": {},
   "outputs": [
    {
     "name": "stdout",
     "output_type": "stream",
     "text": [
      "[122, 178, 100, 175, 167, 125, 102, 128, 142, 178, 193, 120, 137, 159, 167, 111, 147, 169, 159, 200, 198, 182, 193, 167, 114, 144, 197, 135, 157, 148, 189, 195, 194, 124, 147, 158, 154, 133, 111, 171]\n"
     ]
    }
   ],
   "source": [
    "import random as ran\n",
    "List=[]\n",
    "for i in range(1,41):\n",
    "    List.append(ran.randint(100,200))\n",
    "print (List)"
   ]
  },
  {
   "cell_type": "markdown",
   "metadata": {},
   "source": [
    "2. Con una funcion (def) crear dos listas nuevas a partir de la lista creada por numeros aleatorios, en la cual en una esten los elementos pares, y en la otra los elementos impares."
   ]
  },
  {
   "cell_type": "code",
   "execution_count": 110,
   "metadata": {},
   "outputs": [
    {
     "name": "stdout",
     "output_type": "stream",
     "text": [
      "Nueva lista de pares:  [122, 178, 100, 102, 128, 142, 178, 120, 200, 198, 182, 114, 144, 148, 194, 124, 158, 154]\n",
      "\n",
      "Nueva lista impares:  [175, 167, 125, 193, 137, 159, 167, 111, 147, 169, 159, 193, 167, 197, 135, 157, 189, 195, 147, 133, 111, 171]\n"
     ]
    }
   ],
   "source": [
    "def Parimpar (List):\n",
    "    LP=[]\n",
    "    LIM=[]\n",
    "    for i in range(len(List)):\n",
    "        if List[i]%2==0:\n",
    "            LP.append(List[i])\n",
    "        else:\n",
    "            LIM.append(List[i])\n",
    "    return LP.LIM\n",
    "\n",
    "print(\"Nueva lista de pares: \",LP)\n",
    "print(\"\\nNueva lista impares: \",LIM)"
   ]
  },
  {
   "cell_type": "markdown",
   "metadata": {},
   "source": [
    "3.Crear dos variables con la longitud de ambas listas nuevas e imprimir las variables."
   ]
  },
  {
   "cell_type": "code",
   "execution_count": 112,
   "metadata": {},
   "outputs": [
    {
     "name": "stdout",
     "output_type": "stream",
     "text": [
      "La lista de pares tiene 18 elementos\n",
      "\n",
      "La lista de impares tiene 22 elementos\n"
     ]
    }
   ],
   "source": [
    "LLP=len(LP)\n",
    "LLIM=len(LIM)\n",
    "print(\"La lista de pares tiene\",LLP,\"elementos\")\n",
    "print(\"\\nLa lista de impares tiene\",LLIM,\"elementos\")"
   ]
  },
  {
   "cell_type": "markdown",
   "metadata": {},
   "source": [
    "4. Ordenar los elementos de la lista par de mayor a menor, y los de la lista impar de menor a mayor."
   ]
  },
  {
   "cell_type": "code",
   "execution_count": 114,
   "metadata": {},
   "outputs": [
    {
     "name": "stdout",
     "output_type": "stream",
     "text": [
      "Lista de pares en orden descendente [200, 198, 194, 182, 178, 178, 158, 154, 148, 144, 142, 128, 124, 122, 120, 114, 102, 100]\n",
      "\n",
      "Lista de impares en orden ascendente [111, 111, 125, 133, 135, 137, 147, 147, 157, 159, 159, 167, 167, 167, 169, 171, 175, 189, 193, 193, 195, 197]\n"
     ]
    }
   ],
   "source": [
    "LP.sort(reverse=True)\n",
    "print(\"Lista de pares en orden descendente\", LP)\n",
    "LIM.sort()\n",
    "print(\"\\nLista de impares en orden ascendente\",LIM)\n"
   ]
  },
  {
   "cell_type": "markdown",
   "metadata": {},
   "source": [
    "5. Utilizar al menos cuatro de las funciones de listas en python en la lista original de 40 elementos."
   ]
  },
  {
   "cell_type": "code",
   "execution_count": 124,
   "metadata": {},
   "outputs": [
    {
     "name": "stdout",
     "output_type": "stream",
     "text": [
      "Append: [100, 102, 111, 111, 114, 120, 122, 124, 125, 128, 133, 135, 137, 142, 144, 147, 147, 148, 154, 157, 158, 159, 159, 167, 167, 167, 169, 171, 175, 178, 178, 182, 189, 193, 193, 194, 195, 197, 198, 'NuevoElemento']\n",
      "\n",
      "Remove: [100, 102, 111, 111, 114, 120, 122, 124, 125, 128, 133, 135, 137, 142, 144, 147, 147, 148, 154, 157, 158, 159, 159, 167, 167, 167, 169, 171, 175, 178, 178, 182, 189, 193, 193, 194, 195, 197, 198]\n",
      "\n",
      "Pop: [100, 102, 111, 111, 114, 120, 122, 124, 125, 128, 133, 135, 137, 142, 144, 147, 147, 148, 154, 157, 158, 159, 159, 167, 167, 167, 169, 171, 175, 178, 178, 182, 189, 193, 193, 194, 195, 197]\n",
      "\n",
      "Sort [100, 102, 111, 111, 114, 120, 122, 124, 125, 128, 133, 135, 137, 142, 144, 147, 147, 148, 154, 157, 158, 159, 159, 167, 167, 167, 169, 171, 175, 178, 178, 182, 189, 193, 193, 194, 195, 197]\n"
     ]
    }
   ],
   "source": [
    "List.append(\"NuevoElemento\") #se agregó un elemento\n",
    "print(\"Append:\", List)  \n",
    "\n",
    "List.remove(\"NuevoElemento\") #se eliminó un elemento en específico\n",
    "print(\"\\nRemove:\", List)\n",
    "\n",
    "List.pop()\n",
    "print(\"\\nPop:\",List) #se eliminó el último elemento\n",
    "\n",
    "List.sort()\n",
    "print(\"\\nSort\",List) #se ordenaron los elementos de menos a mayor"
   ]
  },
  {
   "cell_type": "markdown",
   "metadata": {},
   "source": [
    "__Diccionarios__\n",
    "--\n",
    "1.Crear un diccionario de 6 personas que conozcas con su primer nombre y su edad."
   ]
  },
  {
   "cell_type": "code",
   "execution_count": 125,
   "metadata": {},
   "outputs": [
    {
     "data": {
      "text/plain": [
       "{'Daniel': 49,\n",
       " 'Amelia': 45,\n",
       " 'Dayan': 22,\n",
       " 'Montserrat': 18,\n",
       " 'Rodolfo': 16,\n",
       " 'Fernanda': 11}"
      ]
     },
     "execution_count": 125,
     "metadata": {},
     "output_type": "execute_result"
    }
   ],
   "source": [
    "Personas={'Daniel':49,'Amelia':45,'Dayan':22,'Montserrat':18,'Rodolfo':16,'Fernanda':11}\n",
    "Personas"
   ]
  },
  {
   "cell_type": "markdown",
   "metadata": {},
   "source": [
    "2. Crear una lista con los valores de la edad y reacomodar la lista de menor a mayor valor."
   ]
  },
  {
   "cell_type": "code",
   "execution_count": 126,
   "metadata": {},
   "outputs": [
    {
     "name": "stdout",
     "output_type": "stream",
     "text": [
      "Edades en orden ascendente: [11, 16, 18, 22, 45, 49]\n"
     ]
    }
   ],
   "source": [
    "Sort=sorted(Personas.values())\n",
    "print(\"Edades en orden ascendente:\",Sort)"
   ]
  },
  {
   "cell_type": "markdown",
   "metadata": {},
   "source": [
    "3. Usando el diccionario y un loop, imprimir solo los nombres."
   ]
  },
  {
   "cell_type": "code",
   "execution_count": 127,
   "metadata": {},
   "outputs": [
    {
     "name": "stdout",
     "output_type": "stream",
     "text": [
      "Daniel\n",
      "Amelia\n",
      "Dayan\n",
      "Montserrat\n",
      "Rodolfo\n",
      "Fernanda\n"
     ]
    }
   ],
   "source": [
    "for i in Personas.keys():\n",
    "    print(i)"
   ]
  },
  {
   "cell_type": "markdown",
   "metadata": {},
   "source": [
    "4. Añadir dos personas nuevas a tu diccionario, incluyendo edad."
   ]
  },
  {
   "cell_type": "code",
   "execution_count": 136,
   "metadata": {},
   "outputs": [
    {
     "name": "stdout",
     "output_type": "stream",
     "text": [
      "{'Daniel': 49, 'Amelia': 45, 'Dayan': 22, 'Montserrat': 18, 'Rodolfo': 16, 'Fernanda': 11, 'Carlos': 34, 'Eduardo': 23}\n"
     ]
    }
   ],
   "source": [
    "Personas['Carlos']=34\n",
    "Personas['Eduardo']=23\n",
    "print(Personas)"
   ]
  },
  {
   "cell_type": "markdown",
   "metadata": {},
   "source": [
    "**Sets**\n",
    "--\n",
    "1.Crea un set con 100 numeros aleatorios enteros del 1 al 25."
   ]
  },
  {
   "cell_type": "code",
   "execution_count": 138,
   "metadata": {},
   "outputs": [
    {
     "name": "stdout",
     "output_type": "stream",
     "text": [
      "{0, 1, 2, 3, 4, 5, 6, 7, 8, 10, 11, 12, 13, 14, 15, 16, 17, 18, 19, 20, 21, 22, 23, 24, 25}\n"
     ]
    }
   ],
   "source": [
    "import random as ran\n",
    "Set=set()\n",
    "for i in range(1,101):\n",
    "    Set.add(ran.randint(0,25))\n",
    "print(Set)\n",
    "\n",
    "#es un set los valores iguales se agrupan"
   ]
  },
  {
   "cell_type": "markdown",
   "metadata": {},
   "source": [
    "2.Comprueba la longitud de tu set"
   ]
  },
  {
   "cell_type": "code",
   "execution_count": 140,
   "metadata": {},
   "outputs": [
    {
     "name": "stdout",
     "output_type": "stream",
     "text": [
      "El set tiene 25 elementos\n"
     ]
    }
   ],
   "source": [
    "lon=len(Set)\n",
    "print(\"El set tiene\",lon,\"elementos\")"
   ]
  },
  {
   "cell_type": "markdown",
   "metadata": {},
   "source": [
    "3. Crea una lista de 5 números aleatorios del 1 al 10 y comprueba si cada valor aparece en el set inicial."
   ]
  },
  {
   "cell_type": "code",
   "execution_count": 145,
   "metadata": {},
   "outputs": [
    {
     "name": "stdout",
     "output_type": "stream",
     "text": [
      "Lista de 5 números aleatorios entre 1 y 10: [3, 6, 7, 7, 3] \n",
      "\n",
      "3 es un elemento del set\n",
      "6 es un elemento del set\n",
      "7 es un elemento del set\n",
      "7 es un elemento del set\n",
      "3 es un elemento del set\n"
     ]
    }
   ],
   "source": [
    "import random as ran\n",
    "Lran=[]\n",
    "for i in range(1,6):\n",
    "    Lran.append(ran.randint(1,10))\n",
    "print (\"Lista de 5 números aleatorios entre 1 y 10:\", Lran,\"\\n\")\n",
    "\n",
    "for i in range(len(Lran)):\n",
    "    \n",
    "    if Lran[i] in Set:\n",
    "        A =Lran[i]\n",
    "        print(A, \"es un elemento del set\")\n",
    "    else:\n",
    "        A =Lran[i]\n",
    "        print(A, \"es un elemento del set\")"
   ]
  }
 ],
 "metadata": {
  "kernelspec": {
   "display_name": "Python 3",
   "language": "python",
   "name": "python3"
  },
  "language_info": {
   "codemirror_mode": {
    "name": "ipython",
    "version": 3
   },
   "file_extension": ".py",
   "mimetype": "text/x-python",
   "name": "python",
   "nbconvert_exporter": "python",
   "pygments_lexer": "ipython3",
   "version": "3.8.5"
  }
 },
 "nbformat": 4,
 "nbformat_minor": 4
}
